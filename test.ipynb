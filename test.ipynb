{
 "cells": [
  {
   "cell_type": "code",
   "execution_count": 29,
   "metadata": {},
   "outputs": [
    {
     "data": {
      "text/plain": [
       "{'reponse': 'no',\n",
       " 'proba': 10.11,\n",
       " 'importance': [['age',\n",
       "   'job',\n",
       "   'marital',\n",
       "   'educations',\n",
       "   'default',\n",
       "   'balance',\n",
       "   'housing',\n",
       "   'loan',\n",
       "   'contact',\n",
       "   'day',\n",
       "   'month',\n",
       "   'duration',\n",
       "   'camapaign',\n",
       "   'pdays',\n",
       "   'previous',\n",
       "   'poutcome'],\n",
       "  [0.027544602751731873,\n",
       "   0.016460007056593895,\n",
       "   0.022492989897727966,\n",
       "   0.021542930975556374,\n",
       "   0.018868671730160713,\n",
       "   0.01887945644557476,\n",
       "   0.10990304499864578,\n",
       "   0.05346716567873955,\n",
       "   0.1468512862920761,\n",
       "   0.027992602437734604,\n",
       "   0.06869466602802277,\n",
       "   0.12936995923519135,\n",
       "   0.024529656395316124,\n",
       "   0.0500224307179451,\n",
       "   0.023836923763155937,\n",
       "   0.23954357206821442]]}"
      ]
     },
     "execution_count": 29,
     "metadata": {},
     "output_type": "execute_result"
    }
   ],
   "source": [
    "import requests\n",
    "\n",
    "reponse=requests.post('http://127.0.0.1:8001/predict',\n",
    "                     json={'age':30,\n",
    "                             \"job\":\"services\",\n",
    "                             \"marital\":\"married\",\n",
    "                             \"education\":\"tertiary\",\n",
    "                             \"default\":\"no\",\n",
    "                             \"balance\":1350,\n",
    "                             \"housing\":\"yes\",\n",
    "                             \"loan\":\"no\",\n",
    "                             \"contact\":\"cellular\",\n",
    "                             \"day\":16,\n",
    "                             \"month\":\"oct\",\n",
    "                             \"duration\":185,\n",
    "                             \"campaign\":1,\n",
    "                             \"pdays\":330,\n",
    "                             \"previous\":1,\n",
    "                             \"poutcome\":\"other\"})\n",
    "reponse.json()"
   ]
  },
  {
   "cell_type": "code",
   "execution_count": 28,
   "metadata": {},
   "outputs": [
    {
     "data": {
      "text/plain": [
       "{'detail': [{'type': 'model_attributes_type',\n",
       "   'loc': ['body'],\n",
       "   'msg': 'Input should be a valid dictionary or object to extract fields from',\n",
       "   'input': 'bonjour',\n",
       "   'url': 'https://errors.pydantic.dev/2.4/v/model_attributes_type'}]}"
      ]
     },
     "execution_count": 28,
     "metadata": {},
     "output_type": "execute_result"
    }
   ],
   "source": [
    "reponse=requests.post('http://127.0.0.1:8000/predict',\n",
    "                     json=\"bonjour\")\n",
    "reponse.json()"
   ]
  },
  {
   "cell_type": "code",
   "execution_count": null,
   "metadata": {},
   "outputs": [],
   "source": [
    "'age':30,\n",
    "\"job\":\"services\",\n",
    "\"marital\":\"married\",\n",
    "\"education\":\"tertiary\",\n",
    "\"default\":\"no\",\n",
    "\"balance\":1350,\n",
    "\"housing\":\"yes\",\n",
    "\"loan\":\"no\",\n",
    "\"contact\":\"cellular\",\n",
    "\"day\":16,\n",
    "\"month\":\"oct\",\n",
    "\"duration\":185,\n",
    "\"campaign\":1,\n",
    "\"pdays\":330,\n",
    "\"previous\":1,\n",
    "\"poutcome\":\"other\""
   ]
  },
  {
   "cell_type": "code",
   "execution_count": 3,
   "metadata": {},
   "outputs": [],
   "source": [
    "import joblib\n",
    "\n",
    "\n",
    "enc = joblib.load(\"encoders\")"
   ]
  },
  {
   "cell_type": "code",
   "execution_count": 15,
   "metadata": {},
   "outputs": [
    {
     "data": {
      "text/plain": [
       "{'age': StandardScaler(),\n",
       " 'job': StandardScaler(),\n",
       " 'marital': StandardScaler(),\n",
       " 'education': StandardScaler(),\n",
       " 'default': StandardScaler(),\n",
       " 'balance': StandardScaler(),\n",
       " 'housing': StandardScaler(),\n",
       " 'loan': StandardScaler(),\n",
       " 'contact': StandardScaler(),\n",
       " 'day': StandardScaler(),\n",
       " 'month': StandardScaler(),\n",
       " 'duration': StandardScaler(),\n",
       " 'campaign': StandardScaler(),\n",
       " 'pdays': StandardScaler(),\n",
       " 'previous': StandardScaler(),\n",
       " 'poutcome': StandardScaler()}"
      ]
     },
     "execution_count": 15,
     "metadata": {},
     "output_type": "execute_result"
    }
   ],
   "source": [
    "scal = joblib.load(\"scalers\")\n",
    "scal"
   ]
  },
  {
   "cell_type": "code",
   "execution_count": 4,
   "metadata": {},
   "outputs": [
    {
     "data": {
      "text/plain": [
       "4"
      ]
     },
     "execution_count": 4,
     "metadata": {},
     "output_type": "execute_result"
    }
   ],
   "source": [
    "enc['job'].transform(['management'])[0]"
   ]
  },
  {
   "cell_type": "code",
   "execution_count": 8,
   "metadata": {},
   "outputs": [
    {
     "data": {
      "text/plain": [
       "-0.10381968320036566"
      ]
     },
     "execution_count": 8,
     "metadata": {},
     "output_type": "execute_result"
    }
   ],
   "source": [
    "import numpy as np\n",
    "job = enc['job'].transform(['management'])[0]\n",
    "scal = joblib.load(\"scalers\")\n",
    "scal['job'].transform(np.array([job]).reshape(-1,1))[0][0]"
   ]
  },
  {
   "cell_type": "code",
   "execution_count": 36,
   "metadata": {},
   "outputs": [
    {
     "data": {
      "text/plain": [
       "{'age': StandardScaler(),\n",
       " 'job': StandardScaler(),\n",
       " 'marital': StandardScaler(),\n",
       " 'education': StandardScaler(),\n",
       " 'default': StandardScaler(),\n",
       " 'balance': StandardScaler(),\n",
       " 'housing': StandardScaler(),\n",
       " 'loan': StandardScaler(),\n",
       " 'contact': StandardScaler(),\n",
       " 'day': StandardScaler(),\n",
       " 'month': StandardScaler(),\n",
       " 'duration': StandardScaler(),\n",
       " 'campaign': StandardScaler(),\n",
       " 'pdays': StandardScaler(),\n",
       " 'previous': StandardScaler(),\n",
       " 'poutcome': StandardScaler()}"
      ]
     },
     "execution_count": 36,
     "metadata": {},
     "output_type": "execute_result"
    }
   ],
   "source": [
    "scal"
   ]
  },
  {
   "cell_type": "code",
   "execution_count": 45,
   "metadata": {},
   "outputs": [
    {
     "data": {
      "text/plain": [
       "-0.841558461270392"
      ]
     },
     "execution_count": 45,
     "metadata": {},
     "output_type": "execute_result"
    }
   ],
   "source": [
    "import numpy as np\n",
    "scal['age'].transform(np.array([32]).reshape(-1, 1))[0][0]"
   ]
  }
 ],
 "metadata": {
  "kernelspec": {
   "display_name": ".venv",
   "language": "python",
   "name": "python3"
  },
  "language_info": {
   "codemirror_mode": {
    "name": "ipython",
    "version": 3
   },
   "file_extension": ".py",
   "mimetype": "text/x-python",
   "name": "python",
   "nbconvert_exporter": "python",
   "pygments_lexer": "ipython3",
   "version": "3.10.8"
  },
  "orig_nbformat": 4
 },
 "nbformat": 4,
 "nbformat_minor": 2
}
