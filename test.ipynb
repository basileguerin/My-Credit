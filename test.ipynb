{
 "cells": [
  {
   "cell_type": "code",
   "execution_count": 9,
   "metadata": {},
   "outputs": [
    {
     "data": {
      "text/plain": [
       "'4'"
      ]
     },
     "execution_count": 9,
     "metadata": {},
     "output_type": "execute_result"
    }
   ],
   "source": [
    "import requests\n",
    "\n",
    "reponse=requests.post('http://127.0.0.1:8000/predict',\n",
    "                     json={'age':30,\n",
    "                             \"job\":\"services\",\n",
    "                             \"marital\":\"married\",\n",
    "                             \"education\":\"tertiary\",\n",
    "                             \"default\":\"no\",\n",
    "                             \"balance\":1350,\n",
    "                             \"housing\":\"yes\",\n",
    "                             \"loan\":\"no\",\n",
    "                             \"contact\":\"cellular\",\n",
    "                             \"day\":16,\n",
    "                             \"month\":\"oct\",\n",
    "                             \"duration\":185,\n",
    "                             \"campaign\":1,\n",
    "                             \"pdays\":330,\n",
    "                             \"previous\":1})\n",
    "reponse.json()"
   ]
  },
  {
   "cell_type": "code",
   "execution_count": 1,
   "metadata": {},
   "outputs": [
    {
     "ename": "ModuleNotFoundError",
     "evalue": "No module named 'joblib'",
     "output_type": "error",
     "traceback": [
      "\u001b[1;31m---------------------------------------------------------------------------\u001b[0m",
      "\u001b[1;31mModuleNotFoundError\u001b[0m                       Traceback (most recent call last)",
      "\u001b[1;32mc:\\Users\\utilisateur\\Documents\\GitHub\\My-Credit\\test.ipynb Cell 2\u001b[0m line \u001b[0;36m1\n\u001b[1;32m----> <a href='vscode-notebook-cell:/c%3A/Users/utilisateur/Documents/GitHub/My-Credit/test.ipynb#W1sZmlsZQ%3D%3D?line=0'>1</a>\u001b[0m \u001b[39mimport\u001b[39;00m \u001b[39mjoblib\u001b[39;00m\n\u001b[0;32m      <a href='vscode-notebook-cell:/c%3A/Users/utilisateur/Documents/GitHub/My-Credit/test.ipynb#W1sZmlsZQ%3D%3D?line=2'>3</a>\u001b[0m enc \u001b[39m=\u001b[39m joblib\u001b[39m.\u001b[39mload(encoders)\n\u001b[0;32m      <a href='vscode-notebook-cell:/c%3A/Users/utilisateur/Documents/GitHub/My-Credit/test.ipynb#W1sZmlsZQ%3D%3D?line=3'>4</a>\u001b[0m enc\n",
      "\u001b[1;31mModuleNotFoundError\u001b[0m: No module named 'joblib'"
     ]
    }
   ],
   "source": [
    "import joblib\n",
    "\n",
    "enc = joblib.load(encoders)\n",
    "enc"
   ]
  }
 ],
 "metadata": {
  "kernelspec": {
   "display_name": ".venv",
   "language": "python",
   "name": "python3"
  },
  "language_info": {
   "codemirror_mode": {
    "name": "ipython",
    "version": 3
   },
   "file_extension": ".py",
   "mimetype": "text/x-python",
   "name": "python",
   "nbconvert_exporter": "python",
   "pygments_lexer": "ipython3",
   "version": "3.10.8"
  },
  "orig_nbformat": 4
 },
 "nbformat": 4,
 "nbformat_minor": 2
}
