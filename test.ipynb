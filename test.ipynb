{
 "cells": [
  {
   "cell_type": "code",
   "execution_count": 9,
   "metadata": {},
   "outputs": [
    {
     "data": {
      "text/plain": [
       "'4'"
      ]
     },
     "execution_count": 9,
     "metadata": {},
     "output_type": "execute_result"
    }
   ],
   "source": [
    "import requests\n",
    "\n",
    "reponse=requests.post('http://127.0.0.1:8000/predict',\n",
    "                     params={'age':30,\n",
    "                             \"job\":\"services\",\n",
    "                             \"marital\":\"married\",\n",
    "                             \"education\":\"tertiary\",\n",
    "                             \"default\":\"no\",\n",
    "                             \"balance\":1350,\n",
    "                             \"housing\":\"yes\",\n",
    "                             \"loan\":\"no\",\n",
    "                             \"contact\":\"cellular\",\n",
    "                             \"day\":16,\n",
    "                             \"month\":\"oct\",\n",
    "                             \"duration\":185,\n",
    "                             \"campaign\":1,\n",
    "                             \"pdays\":330,\n",
    "                             \"previous\":1})\n",
    "reponse.json()"
   ]
  },
  {
   "cell_type": "code",
   "execution_count": null,
   "metadata": {},
   "outputs": [],
   "source": []
  }
 ],
 "metadata": {
  "kernelspec": {
   "display_name": ".venv",
   "language": "python",
   "name": "python3"
  },
  "language_info": {
   "codemirror_mode": {
    "name": "ipython",
    "version": 3
   },
   "file_extension": ".py",
   "mimetype": "text/x-python",
   "name": "python",
   "nbconvert_exporter": "python",
   "pygments_lexer": "ipython3",
   "version": "3.10.8"
  },
  "orig_nbformat": 4
 },
 "nbformat": 4,
 "nbformat_minor": 2
}
