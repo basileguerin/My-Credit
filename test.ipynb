{
 "cells": [
  {
   "cell_type": "code",
   "execution_count": 3,
   "metadata": {},
   "outputs": [
    {
     "data": {
      "text/plain": [
       "{'reponse': 'no', 'proba': 29.93}"
      ]
     },
     "execution_count": 3,
     "metadata": {},
     "output_type": "execute_result"
    }
   ],
   "source": [
    "import requests\n",
    "\n",
    "reponse=requests.post('http://127.0.0.1:8000/predict',\n",
    "                     json={'age':30,\n",
    "                             \"job\":\"services\",\n",
    "                             \"marital\":\"married\",\n",
    "                             \"education\":\"tertiary\",\n",
    "                             \"default\":\"no\",\n",
    "                             \"balance\":1350,\n",
    "                             \"housing\":\"yes\",\n",
    "                             \"loan\":\"no\",\n",
    "                             \"contact\":\"cellular\",\n",
    "                             \"day\":16,\n",
    "                             \"month\":\"oct\",\n",
    "                             \"duration\":185,\n",
    "                             \"campaign\":1,\n",
    "                             \"pdays\":330,\n",
    "                             \"previous\":1,\n",
    "                             \"poutcome\":\"other\"})\n",
    "reponse.json()"
   ]
  },
  {
   "cell_type": "code",
   "execution_count": 3,
   "metadata": {},
   "outputs": [],
   "source": [
    "import joblib\n",
    "\n",
    "\n",
    "enc = joblib.load(\"encoders\")"
   ]
  },
  {
   "cell_type": "code",
   "execution_count": 15,
   "metadata": {},
   "outputs": [
    {
     "data": {
      "text/plain": [
       "{'age': StandardScaler(),\n",
       " 'job': StandardScaler(),\n",
       " 'marital': StandardScaler(),\n",
       " 'education': StandardScaler(),\n",
       " 'default': StandardScaler(),\n",
       " 'balance': StandardScaler(),\n",
       " 'housing': StandardScaler(),\n",
       " 'loan': StandardScaler(),\n",
       " 'contact': StandardScaler(),\n",
       " 'day': StandardScaler(),\n",
       " 'month': StandardScaler(),\n",
       " 'duration': StandardScaler(),\n",
       " 'campaign': StandardScaler(),\n",
       " 'pdays': StandardScaler(),\n",
       " 'previous': StandardScaler(),\n",
       " 'poutcome': StandardScaler()}"
      ]
     },
     "execution_count": 15,
     "metadata": {},
     "output_type": "execute_result"
    }
   ],
   "source": [
    "scal = joblib.load(\"scalers\")\n",
    "scal"
   ]
  },
  {
   "cell_type": "code",
   "execution_count": 4,
   "metadata": {},
   "outputs": [
    {
     "data": {
      "text/plain": [
       "4"
      ]
     },
     "execution_count": 4,
     "metadata": {},
     "output_type": "execute_result"
    }
   ],
   "source": [
    "enc['job'].transform(['management'])[0]"
   ]
  },
  {
   "cell_type": "code",
   "execution_count": 8,
   "metadata": {},
   "outputs": [
    {
     "data": {
      "text/plain": [
       "-0.10381968320036566"
      ]
     },
     "execution_count": 8,
     "metadata": {},
     "output_type": "execute_result"
    }
   ],
   "source": [
    "import numpy as np\n",
    "job = enc['job'].transform(['management'])[0]\n",
    "scal = joblib.load(\"scalers\")\n",
    "scal['job'].transform(np.array([job]).reshape(-1,1))[0][0]"
   ]
  },
  {
   "cell_type": "code",
   "execution_count": 36,
   "metadata": {},
   "outputs": [
    {
     "data": {
      "text/plain": [
       "{'age': StandardScaler(),\n",
       " 'job': StandardScaler(),\n",
       " 'marital': StandardScaler(),\n",
       " 'education': StandardScaler(),\n",
       " 'default': StandardScaler(),\n",
       " 'balance': StandardScaler(),\n",
       " 'housing': StandardScaler(),\n",
       " 'loan': StandardScaler(),\n",
       " 'contact': StandardScaler(),\n",
       " 'day': StandardScaler(),\n",
       " 'month': StandardScaler(),\n",
       " 'duration': StandardScaler(),\n",
       " 'campaign': StandardScaler(),\n",
       " 'pdays': StandardScaler(),\n",
       " 'previous': StandardScaler(),\n",
       " 'poutcome': StandardScaler()}"
      ]
     },
     "execution_count": 36,
     "metadata": {},
     "output_type": "execute_result"
    }
   ],
   "source": [
    "scal"
   ]
  },
  {
   "cell_type": "code",
   "execution_count": 45,
   "metadata": {},
   "outputs": [
    {
     "data": {
      "text/plain": [
       "-0.841558461270392"
      ]
     },
     "execution_count": 45,
     "metadata": {},
     "output_type": "execute_result"
    }
   ],
   "source": [
    "import numpy as np\n",
    "scal['age'].transform(np.array([32]).reshape(-1, 1))[0][0]"
   ]
  }
 ],
 "metadata": {
  "kernelspec": {
   "display_name": ".venv",
   "language": "python",
   "name": "python3"
  },
  "language_info": {
   "codemirror_mode": {
    "name": "ipython",
    "version": 3
   },
   "file_extension": ".py",
   "mimetype": "text/x-python",
   "name": "python",
   "nbconvert_exporter": "python",
   "pygments_lexer": "ipython3",
   "version": "3.10.8"
  },
  "orig_nbformat": 4
 },
 "nbformat": 4,
 "nbformat_minor": 2
}
